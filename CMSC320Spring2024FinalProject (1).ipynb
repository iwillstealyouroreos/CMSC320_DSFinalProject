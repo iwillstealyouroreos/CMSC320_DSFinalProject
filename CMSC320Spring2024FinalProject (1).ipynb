{
  "nbformat": 4,
  "nbformat_minor": 0,
  "metadata": {
    "colab": {
      "provenance": []
    },
    "kernelspec": {
      "name": "python3",
      "display_name": "Python 3"
    },
    "language_info": {
      "name": "python"
    }
  },
  "cells": [
    {
      "cell_type": "markdown",
      "source": [
        "#**Best Time To Go To The Gym**\n",
        "\n",
        "Spring 2024 Data Science Project"
      ],
      "metadata": {
        "id": "8B6c1FBKtkeU"
      }
    },
    {
      "cell_type": "markdown",
      "source": [
        "\n",
        "**Contribution Checkpoints:**\n",
        "\n",
        "A: Project idea - 5%\n",
        "B: Dataset Curation and Preprocessing - 10%\n",
        "C: Data Exploration and Summary Statistics - 10%\n",
        "D: ML Algorithm Design/Development - 25%\n",
        "E: ML Algorithm Training and Test Data Analysis - 20%\n",
        "F: Visualization, Result Analysis, Conclusion - 15%\n",
        "G: Final Tutorial Report Creation - 10%\n",
        "H: Additional (not listed above, if any) - 5%\n",
        "\n",
        "Member 1: Jonathan Hale, Contribution: 90% (Did not contribute to A)\n",
        "\n",
        "Member 2: Ana Gupta, Contribution: 90% (Did not contribute to G)\n",
        "\n",
        "Member 3: Quinton Baleikasavu, Contribution: 90% (Did not contribute to G)\n",
        "\n",
        "\n",
        "\n",
        "We, **Jonathan Hale**, **Ana Gupta**, and **Quinton Baleikasavu**, agree together that the above information is true, and we are confident about our contributions to this submitted project/final tutorial. May 7 2024"
      ],
      "metadata": {
        "id": "l7owo17wtt-s"
      }
    },
    {
      "cell_type": "markdown",
      "source": [
        "We all collaborated and worked together on this throughout the entirity of the project so this summary relates to all of us: Jonathan Hale, Ana Gupta, and Quinton Baleikasavu.\n",
        "\n",
        "Throughout the span of the project we all communicated frequently about how we were going to approach the project. We bounced ideas of each other and had all equal parts on the completion of this project. From the brainstorming, checkpoints, and final tutorial, all members played a crucial role and contributed equally.\n",
        "\n",
        "Jonathan Hale: Jonathan played a large role in determining what models and classifications to use along with the flow of the project. During the beginning of the project, he did not have much of a preference on what project was chosen to focus on but he did work hard with his peers to help use the skils he learned in class to complete coding segments of Checkpoint 2 and 3. He also checked over and tweaked the finishing touches on multiple aspects of the project for instance, correcting errors on previous checkpoints to develop a more fleshed out assignment. Lastly, we played a great role in the desgin aspect of the project, following closely to the style presented to us in previous homework assignments.\n",
        "\n",
        "\n",
        "Ana Gupta: Ana played a considerable role in determing what she wanted the project to look at. The main focus of the project was proposed by her and she had a clear vision on how and what she wanted the project to focus on. With this, Ana was very adamit about completing segments of the checkpoints and project sections. She played a great part in communicating and helping the group through confusion during developement and adhering to the instructions. Overall a large role in checking over code and text segments and overall flow of the project.\n",
        "\n",
        "\n",
        "Quinton Baleikasavu: Quinton played a significant role in outlining the developemnt of this project. From Checkpoint 2 to 3, he quickly applied his skills within the classroom to produce clean code and HEAVY USE of comments to communicate his thought process in developing code. Another strong team player that communicated developement within each checkpoint to the team to not only walk through his mindset but also brush up on topics together to garner a full understanding within the team. Very prominment during the final checkpoint ML analysis process and overall great communication."
      ],
      "metadata": {
        "id": "xsZSprBKtu4P"
      }
    },
    {
      "cell_type": "markdown",
      "source": [
        "### **Introduction**\n",
        "#####*Jonathan Hale, Ana Gupta, and Quinton Baleikasavu*\n",
        "---\n",
        "Standing in line for an exercise equipment can be annoying in a world where time is of the essence. In order to find the best times for gym visitors to visit with little to no wait time, this data science project analyzes a dataset of gym visit patterns.\n",
        "\n",
        "We want to use data analytics to find patterns and insights that will help gym goers schedule their workouts more effectively, which will improve their overall experience at the gym. Patterns such as effectors that may impact the crowdiness of the gym such as Weather/Temperature, Weekends, Hours of day, and Holidays. With this analysis, we hope to offer insightful suggestions that will enable people to get the most out of their workouts and maximize their trips to the gym.\n",
        "\n",
        "We determine the best time to go to the gym as the times/situation where the amount of people who are in the gym are at a minimum.\n",
        "\n",
        "\n"
      ],
      "metadata": {
        "id": "DVPA9rHk6aO7"
      }
    },
    {
      "cell_type": "code",
      "source": [
        "import pandas as pd\n",
        "import matplotlib.pyplot as plt\n",
        "import numpy as np\n",
        "import scipy as sc\n",
        "from scipy.stats import pearsonr\n",
        "import statsmodels.api as sm\n",
        "from statsmodels.stats.weightstats import ztest as ztest\n",
        "\n",
        "from sklearn.model_selection import train_test_split, cross_val_score, StratifiedKFold\n",
        "from sklearn.preprocessing import StandardScaler\n",
        "from sklearn.neighbors import KNeighborsClassifier\n",
        "from sklearn.tree import DecisionTreeClassifier\n",
        "from sklearn.linear_model import LogisticRegression\n",
        "from sklearn.ensemble import RandomForestClassifier, RandomForestRegressor\n",
        "from sklearn.metrics import mean_squared_error\n",
        "from sklearn.metrics import accuracy_score, classification_report, confusion_matrix\n",
        "from sklearn.linear_model import LinearRegression\n",
        "from sklearn.model_selection import KFold\n",
        "from sklearn.model_selection import cross_val_score\n",
        "from sklearn.model_selection import GridSearchCV\n"
      ],
      "metadata": {
        "id": "tnIwNwftH81Z"
      },
      "execution_count": null,
      "outputs": []
    },
    {
      "cell_type": "markdown",
      "source": [
        "In this project, we will heavily rely on two libraries: Pandas and NumPy. **Pandas** offers a rich set of tools that simplify data transformation, as demonstrated in the examples below. **Numpy** providess a useful mechanism for storing and manipulating data, further augmenting our ability to work with complex datasets.\n",
        "\n",
        "We will also be using matplotlib.pyplot to plot the dataset."
      ],
      "metadata": {
        "id": "31DZBhJGAxnl"
      }
    },
    {
      "cell_type": "markdown",
      "source": [
        "# **Data Curation**\n",
        "\n",
        "---\n",
        "We will be using this dataset found on kaggle to acomplish our analysis.\n",
        " https://www.kaggle.com/datasets/nsrose7224/crowdedness-at-the-campus-gym\n",
        "\n",
        " The dataset includes records of about 26,000 people that were countered over the course of the previous year, roughly every ten minutes. Extra details have also been added, like the weather and semester specific information, which may have an impact on the density of people."
      ],
      "metadata": {
        "id": "w_4Q7HlE6Yp1"
      }
    },
    {
      "cell_type": "markdown",
      "source": [
        "**Cleaning Our Dataframe**\n",
        "\n",
        "\n",
        "Before we begin to analyze our data, we should first check to see if there are any errors in our table, and if so we should manipulate the table in order to fix it."
      ],
      "metadata": {
        "id": "KMy5E_p9Yn20"
      }
    },
    {
      "cell_type": "code",
      "source": [
        "df = pd.read_csv('/content/sample_data/data.csv')\n",
        "print(df.info()) # Displaying the different types of each column within the dataframe\n",
        "print(df.head(5))"
      ],
      "metadata": {
        "colab": {
          "base_uri": "https://localhost:8080/"
        },
        "id": "moZhe2-SKHv4",
        "outputId": "4a3533fd-bd60-4211-b37c-7b2aa7b6b471"
      },
      "execution_count": null,
      "outputs": [
        {
          "output_type": "stream",
          "name": "stdout",
          "text": [
            "<class 'pandas.core.frame.DataFrame'>\n",
            "RangeIndex: 62184 entries, 0 to 62183\n",
            "Data columns (total 11 columns):\n",
            " #   Column                Non-Null Count  Dtype  \n",
            "---  ------                --------------  -----  \n",
            " 0   number_people         62184 non-null  int64  \n",
            " 1   date                  62184 non-null  object \n",
            " 2   timestamp             62184 non-null  int64  \n",
            " 3   day_of_week           62184 non-null  int64  \n",
            " 4   is_weekend            62184 non-null  int64  \n",
            " 5   is_holiday            62184 non-null  int64  \n",
            " 6   temperature           62184 non-null  float64\n",
            " 7   is_start_of_semester  62184 non-null  int64  \n",
            " 8   is_during_semester    62184 non-null  int64  \n",
            " 9   month                 62184 non-null  int64  \n",
            " 10  hour                  62184 non-null  int64  \n",
            "dtypes: float64(1), int64(9), object(1)\n",
            "memory usage: 5.2+ MB\n",
            "None\n",
            "   number_people                       date  timestamp  day_of_week  \\\n",
            "0             37  2015-08-14 17:00:11-07:00      61211            4   \n",
            "1             45  2015-08-14 17:20:14-07:00      62414            4   \n",
            "2             40  2015-08-14 17:30:15-07:00      63015            4   \n",
            "3             44  2015-08-14 17:40:16-07:00      63616            4   \n",
            "4             45  2015-08-14 17:50:17-07:00      64217            4   \n",
            "\n",
            "   is_weekend  is_holiday  temperature  is_start_of_semester  \\\n",
            "0           0           0        71.76                     0   \n",
            "1           0           0        71.76                     0   \n",
            "2           0           0        71.76                     0   \n",
            "3           0           0        71.76                     0   \n",
            "4           0           0        71.76                     0   \n",
            "\n",
            "   is_during_semester  month  hour  \n",
            "0                   0      8    17  \n",
            "1                   0      8    17  \n",
            "2                   0      8    17  \n",
            "3                   0      8    17  \n",
            "4                   0      8    17  \n"
          ]
        }
      ]
    },
    {
      "cell_type": "code",
      "source": [
        "# Checks and Handles duplicate entries\n",
        "print(len(df))\n",
        "print(len(df.drop_duplicates()))\n",
        "\n",
        "# Handle the missing values in the data by discarding them.\n",
        "data_cleaned = df.dropna()\n",
        "\n",
        "# Checks if there is any missing values. If so it will show true\n",
        "missing_values = df.isnull().any()\n",
        "print(missing_values)"
      ],
      "metadata": {
        "colab": {
          "base_uri": "https://localhost:8080/"
        },
        "id": "Z3zJTyuWTfue",
        "outputId": "4c74d16d-bb62-410b-9b4a-aace37606385"
      },
      "execution_count": null,
      "outputs": [
        {
          "output_type": "stream",
          "name": "stdout",
          "text": [
            "62184\n",
            "62184\n",
            "number_people           False\n",
            "date                    False\n",
            "timestamp               False\n",
            "day_of_week             False\n",
            "is_weekend              False\n",
            "is_holiday              False\n",
            "temperature             False\n",
            "is_start_of_semester    False\n",
            "is_during_semester      False\n",
            "month                   False\n",
            "hour                    False\n",
            "dtype: bool\n"
          ]
        }
      ]
    },
    {
      "cell_type": "markdown",
      "source": [
        "As we can see above, there are no duplicate entries and there are no missing entries so we can go forward with the analysis of our data."
      ],
      "metadata": {
        "id": "3-H1x6KaUXfJ"
      }
    },
    {
      "cell_type": "code",
      "source": [
        "df.head()"
      ],
      "metadata": {
        "colab": {
          "base_uri": "https://localhost:8080/",
          "height": 487
        },
        "id": "7U6JxJBtUqqh",
        "outputId": "a5534fe1-3387-4e73-9ee0-af8cdf014f99"
      },
      "execution_count": null,
      "outputs": [
        {
          "output_type": "execute_result",
          "data": {
            "text/plain": [
              "   number_people                       date  timestamp  day_of_week  \\\n",
              "0             37  2015-08-14 17:00:11-07:00      61211            4   \n",
              "1             45  2015-08-14 17:20:14-07:00      62414            4   \n",
              "2             40  2015-08-14 17:30:15-07:00      63015            4   \n",
              "3             44  2015-08-14 17:40:16-07:00      63616            4   \n",
              "4             45  2015-08-14 17:50:17-07:00      64217            4   \n",
              "\n",
              "   is_weekend  is_holiday  temperature  is_start_of_semester  \\\n",
              "0           0           0        71.76                     0   \n",
              "1           0           0        71.76                     0   \n",
              "2           0           0        71.76                     0   \n",
              "3           0           0        71.76                     0   \n",
              "4           0           0        71.76                     0   \n",
              "\n",
              "   is_during_semester  month  hour  \n",
              "0                   0      8    17  \n",
              "1                   0      8    17  \n",
              "2                   0      8    17  \n",
              "3                   0      8    17  \n",
              "4                   0      8    17  "
            ],
            "text/html": [
              "\n",
              "  <div id=\"df-35214eb2-f725-4497-b84b-0c43f13d2944\" class=\"colab-df-container\">\n",
              "    <div>\n",
              "<style scoped>\n",
              "    .dataframe tbody tr th:only-of-type {\n",
              "        vertical-align: middle;\n",
              "    }\n",
              "\n",
              "    .dataframe tbody tr th {\n",
              "        vertical-align: top;\n",
              "    }\n",
              "\n",
              "    .dataframe thead th {\n",
              "        text-align: right;\n",
              "    }\n",
              "</style>\n",
              "<table border=\"1\" class=\"dataframe\">\n",
              "  <thead>\n",
              "    <tr style=\"text-align: right;\">\n",
              "      <th></th>\n",
              "      <th>number_people</th>\n",
              "      <th>date</th>\n",
              "      <th>timestamp</th>\n",
              "      <th>day_of_week</th>\n",
              "      <th>is_weekend</th>\n",
              "      <th>is_holiday</th>\n",
              "      <th>temperature</th>\n",
              "      <th>is_start_of_semester</th>\n",
              "      <th>is_during_semester</th>\n",
              "      <th>month</th>\n",
              "      <th>hour</th>\n",
              "    </tr>\n",
              "  </thead>\n",
              "  <tbody>\n",
              "    <tr>\n",
              "      <th>0</th>\n",
              "      <td>37</td>\n",
              "      <td>2015-08-14 17:00:11-07:00</td>\n",
              "      <td>61211</td>\n",
              "      <td>4</td>\n",
              "      <td>0</td>\n",
              "      <td>0</td>\n",
              "      <td>71.76</td>\n",
              "      <td>0</td>\n",
              "      <td>0</td>\n",
              "      <td>8</td>\n",
              "      <td>17</td>\n",
              "    </tr>\n",
              "    <tr>\n",
              "      <th>1</th>\n",
              "      <td>45</td>\n",
              "      <td>2015-08-14 17:20:14-07:00</td>\n",
              "      <td>62414</td>\n",
              "      <td>4</td>\n",
              "      <td>0</td>\n",
              "      <td>0</td>\n",
              "      <td>71.76</td>\n",
              "      <td>0</td>\n",
              "      <td>0</td>\n",
              "      <td>8</td>\n",
              "      <td>17</td>\n",
              "    </tr>\n",
              "    <tr>\n",
              "      <th>2</th>\n",
              "      <td>40</td>\n",
              "      <td>2015-08-14 17:30:15-07:00</td>\n",
              "      <td>63015</td>\n",
              "      <td>4</td>\n",
              "      <td>0</td>\n",
              "      <td>0</td>\n",
              "      <td>71.76</td>\n",
              "      <td>0</td>\n",
              "      <td>0</td>\n",
              "      <td>8</td>\n",
              "      <td>17</td>\n",
              "    </tr>\n",
              "    <tr>\n",
              "      <th>3</th>\n",
              "      <td>44</td>\n",
              "      <td>2015-08-14 17:40:16-07:00</td>\n",
              "      <td>63616</td>\n",
              "      <td>4</td>\n",
              "      <td>0</td>\n",
              "      <td>0</td>\n",
              "      <td>71.76</td>\n",
              "      <td>0</td>\n",
              "      <td>0</td>\n",
              "      <td>8</td>\n",
              "      <td>17</td>\n",
              "    </tr>\n",
              "    <tr>\n",
              "      <th>4</th>\n",
              "      <td>45</td>\n",
              "      <td>2015-08-14 17:50:17-07:00</td>\n",
              "      <td>64217</td>\n",
              "      <td>4</td>\n",
              "      <td>0</td>\n",
              "      <td>0</td>\n",
              "      <td>71.76</td>\n",
              "      <td>0</td>\n",
              "      <td>0</td>\n",
              "      <td>8</td>\n",
              "      <td>17</td>\n",
              "    </tr>\n",
              "  </tbody>\n",
              "</table>\n",
              "</div>\n",
              "    <div class=\"colab-df-buttons\">\n",
              "\n",
              "  <div class=\"colab-df-container\">\n",
              "    <button class=\"colab-df-convert\" onclick=\"convertToInteractive('df-35214eb2-f725-4497-b84b-0c43f13d2944')\"\n",
              "            title=\"Convert this dataframe to an interactive table.\"\n",
              "            style=\"display:none;\">\n",
              "\n",
              "  <svg xmlns=\"http://www.w3.org/2000/svg\" height=\"24px\" viewBox=\"0 -960 960 960\">\n",
              "    <path d=\"M120-120v-720h720v720H120Zm60-500h600v-160H180v160Zm220 220h160v-160H400v160Zm0 220h160v-160H400v160ZM180-400h160v-160H180v160Zm440 0h160v-160H620v160ZM180-180h160v-160H180v160Zm440 0h160v-160H620v160Z\"/>\n",
              "  </svg>\n",
              "    </button>\n",
              "\n",
              "  <style>\n",
              "    .colab-df-container {\n",
              "      display:flex;\n",
              "      gap: 12px;\n",
              "    }\n",
              "\n",
              "    .colab-df-convert {\n",
              "      background-color: #E8F0FE;\n",
              "      border: none;\n",
              "      border-radius: 50%;\n",
              "      cursor: pointer;\n",
              "      display: none;\n",
              "      fill: #1967D2;\n",
              "      height: 32px;\n",
              "      padding: 0 0 0 0;\n",
              "      width: 32px;\n",
              "    }\n",
              "\n",
              "    .colab-df-convert:hover {\n",
              "      background-color: #E2EBFA;\n",
              "      box-shadow: 0px 1px 2px rgba(60, 64, 67, 0.3), 0px 1px 3px 1px rgba(60, 64, 67, 0.15);\n",
              "      fill: #174EA6;\n",
              "    }\n",
              "\n",
              "    .colab-df-buttons div {\n",
              "      margin-bottom: 4px;\n",
              "    }\n",
              "\n",
              "    [theme=dark] .colab-df-convert {\n",
              "      background-color: #3B4455;\n",
              "      fill: #D2E3FC;\n",
              "    }\n",
              "\n",
              "    [theme=dark] .colab-df-convert:hover {\n",
              "      background-color: #434B5C;\n",
              "      box-shadow: 0px 1px 3px 1px rgba(0, 0, 0, 0.15);\n",
              "      filter: drop-shadow(0px 1px 2px rgba(0, 0, 0, 0.3));\n",
              "      fill: #FFFFFF;\n",
              "    }\n",
              "  </style>\n",
              "\n",
              "    <script>\n",
              "      const buttonEl =\n",
              "        document.querySelector('#df-35214eb2-f725-4497-b84b-0c43f13d2944 button.colab-df-convert');\n",
              "      buttonEl.style.display =\n",
              "        google.colab.kernel.accessAllowed ? 'block' : 'none';\n",
              "\n",
              "      async function convertToInteractive(key) {\n",
              "        const element = document.querySelector('#df-35214eb2-f725-4497-b84b-0c43f13d2944');\n",
              "        const dataTable =\n",
              "          await google.colab.kernel.invokeFunction('convertToInteractive',\n",
              "                                                    [key], {});\n",
              "        if (!dataTable) return;\n",
              "\n",
              "        const docLinkHtml = 'Like what you see? Visit the ' +\n",
              "          '<a target=\"_blank\" href=https://colab.research.google.com/notebooks/data_table.ipynb>data table notebook</a>'\n",
              "          + ' to learn more about interactive tables.';\n",
              "        element.innerHTML = '';\n",
              "        dataTable['output_type'] = 'display_data';\n",
              "        await google.colab.output.renderOutput(dataTable, element);\n",
              "        const docLink = document.createElement('div');\n",
              "        docLink.innerHTML = docLinkHtml;\n",
              "        element.appendChild(docLink);\n",
              "      }\n",
              "    </script>\n",
              "  </div>\n",
              "\n",
              "\n",
              "<div id=\"df-ecc69dd3-ab06-483b-b9a0-0bbbd563feaa\">\n",
              "  <button class=\"colab-df-quickchart\" onclick=\"quickchart('df-ecc69dd3-ab06-483b-b9a0-0bbbd563feaa')\"\n",
              "            title=\"Suggest charts\"\n",
              "            style=\"display:none;\">\n",
              "\n",
              "<svg xmlns=\"http://www.w3.org/2000/svg\" height=\"24px\"viewBox=\"0 0 24 24\"\n",
              "     width=\"24px\">\n",
              "    <g>\n",
              "        <path d=\"M19 3H5c-1.1 0-2 .9-2 2v14c0 1.1.9 2 2 2h14c1.1 0 2-.9 2-2V5c0-1.1-.9-2-2-2zM9 17H7v-7h2v7zm4 0h-2V7h2v10zm4 0h-2v-4h2v4z\"/>\n",
              "    </g>\n",
              "</svg>\n",
              "  </button>\n",
              "\n",
              "<style>\n",
              "  .colab-df-quickchart {\n",
              "      --bg-color: #E8F0FE;\n",
              "      --fill-color: #1967D2;\n",
              "      --hover-bg-color: #E2EBFA;\n",
              "      --hover-fill-color: #174EA6;\n",
              "      --disabled-fill-color: #AAA;\n",
              "      --disabled-bg-color: #DDD;\n",
              "  }\n",
              "\n",
              "  [theme=dark] .colab-df-quickchart {\n",
              "      --bg-color: #3B4455;\n",
              "      --fill-color: #D2E3FC;\n",
              "      --hover-bg-color: #434B5C;\n",
              "      --hover-fill-color: #FFFFFF;\n",
              "      --disabled-bg-color: #3B4455;\n",
              "      --disabled-fill-color: #666;\n",
              "  }\n",
              "\n",
              "  .colab-df-quickchart {\n",
              "    background-color: var(--bg-color);\n",
              "    border: none;\n",
              "    border-radius: 50%;\n",
              "    cursor: pointer;\n",
              "    display: none;\n",
              "    fill: var(--fill-color);\n",
              "    height: 32px;\n",
              "    padding: 0;\n",
              "    width: 32px;\n",
              "  }\n",
              "\n",
              "  .colab-df-quickchart:hover {\n",
              "    background-color: var(--hover-bg-color);\n",
              "    box-shadow: 0 1px 2px rgba(60, 64, 67, 0.3), 0 1px 3px 1px rgba(60, 64, 67, 0.15);\n",
              "    fill: var(--button-hover-fill-color);\n",
              "  }\n",
              "\n",
              "  .colab-df-quickchart-complete:disabled,\n",
              "  .colab-df-quickchart-complete:disabled:hover {\n",
              "    background-color: var(--disabled-bg-color);\n",
              "    fill: var(--disabled-fill-color);\n",
              "    box-shadow: none;\n",
              "  }\n",
              "\n",
              "  .colab-df-spinner {\n",
              "    border: 2px solid var(--fill-color);\n",
              "    border-color: transparent;\n",
              "    border-bottom-color: var(--fill-color);\n",
              "    animation:\n",
              "      spin 1s steps(1) infinite;\n",
              "  }\n",
              "\n",
              "  @keyframes spin {\n",
              "    0% {\n",
              "      border-color: transparent;\n",
              "      border-bottom-color: var(--fill-color);\n",
              "      border-left-color: var(--fill-color);\n",
              "    }\n",
              "    20% {\n",
              "      border-color: transparent;\n",
              "      border-left-color: var(--fill-color);\n",
              "      border-top-color: var(--fill-color);\n",
              "    }\n",
              "    30% {\n",
              "      border-color: transparent;\n",
              "      border-left-color: var(--fill-color);\n",
              "      border-top-color: var(--fill-color);\n",
              "      border-right-color: var(--fill-color);\n",
              "    }\n",
              "    40% {\n",
              "      border-color: transparent;\n",
              "      border-right-color: var(--fill-color);\n",
              "      border-top-color: var(--fill-color);\n",
              "    }\n",
              "    60% {\n",
              "      border-color: transparent;\n",
              "      border-right-color: var(--fill-color);\n",
              "    }\n",
              "    80% {\n",
              "      border-color: transparent;\n",
              "      border-right-color: var(--fill-color);\n",
              "      border-bottom-color: var(--fill-color);\n",
              "    }\n",
              "    90% {\n",
              "      border-color: transparent;\n",
              "      border-bottom-color: var(--fill-color);\n",
              "    }\n",
              "  }\n",
              "</style>\n",
              "\n",
              "  <script>\n",
              "    async function quickchart(key) {\n",
              "      const quickchartButtonEl =\n",
              "        document.querySelector('#' + key + ' button');\n",
              "      quickchartButtonEl.disabled = true;  // To prevent multiple clicks.\n",
              "      quickchartButtonEl.classList.add('colab-df-spinner');\n",
              "      try {\n",
              "        const charts = await google.colab.kernel.invokeFunction(\n",
              "            'suggestCharts', [key], {});\n",
              "      } catch (error) {\n",
              "        console.error('Error during call to suggestCharts:', error);\n",
              "      }\n",
              "      quickchartButtonEl.classList.remove('colab-df-spinner');\n",
              "      quickchartButtonEl.classList.add('colab-df-quickchart-complete');\n",
              "    }\n",
              "    (() => {\n",
              "      let quickchartButtonEl =\n",
              "        document.querySelector('#df-ecc69dd3-ab06-483b-b9a0-0bbbd563feaa button');\n",
              "      quickchartButtonEl.style.display =\n",
              "        google.colab.kernel.accessAllowed ? 'block' : 'none';\n",
              "    })();\n",
              "  </script>\n",
              "</div>\n",
              "\n",
              "    </div>\n",
              "  </div>\n"
            ],
            "application/vnd.google.colaboratory.intrinsic+json": {
              "type": "dataframe",
              "variable_name": "df",
              "summary": "{\n  \"name\": \"df\",\n  \"rows\": 62184,\n  \"fields\": [\n    {\n      \"column\": \"number_people\",\n      \"properties\": {\n        \"dtype\": \"number\",\n        \"std\": 22,\n        \"min\": 0,\n        \"max\": 145,\n        \"num_unique_values\": 128,\n        \"samples\": [\n          69,\n          11,\n          1\n        ],\n        \"semantic_type\": \"\",\n        \"description\": \"\"\n      }\n    },\n    {\n      \"column\": \"date\",\n      \"properties\": {\n        \"dtype\": \"object\",\n        \"num_unique_values\": 62184,\n        \"samples\": [\n          \"2016-09-20 03:26:00-07:00\",\n          \"2016-11-06 17:59:16-08:00\",\n          \"2016-07-24 22:25:52-07:00\"\n        ],\n        \"semantic_type\": \"\",\n        \"description\": \"\"\n      }\n    },\n    {\n      \"column\": \"timestamp\",\n      \"properties\": {\n        \"dtype\": \"number\",\n        \"std\": 24211,\n        \"min\": 0,\n        \"max\": 86399,\n        \"num_unique_values\": 31321,\n        \"samples\": [\n          71296,\n          14641,\n          11976\n        ],\n        \"semantic_type\": \"\",\n        \"description\": \"\"\n      }\n    },\n    {\n      \"column\": \"day_of_week\",\n      \"properties\": {\n        \"dtype\": \"number\",\n        \"std\": 1,\n        \"min\": 0,\n        \"max\": 6,\n        \"num_unique_values\": 7,\n        \"samples\": [\n          4,\n          5,\n          2\n        ],\n        \"semantic_type\": \"\",\n        \"description\": \"\"\n      }\n    },\n    {\n      \"column\": \"is_weekend\",\n      \"properties\": {\n        \"dtype\": \"number\",\n        \"std\": 0,\n        \"min\": 0,\n        \"max\": 1,\n        \"num_unique_values\": 2,\n        \"samples\": [\n          1,\n          0\n        ],\n        \"semantic_type\": \"\",\n        \"description\": \"\"\n      }\n    },\n    {\n      \"column\": \"is_holiday\",\n      \"properties\": {\n        \"dtype\": \"number\",\n        \"std\": 0,\n        \"min\": 0,\n        \"max\": 1,\n        \"num_unique_values\": 2,\n        \"samples\": [\n          1,\n          0\n        ],\n        \"semantic_type\": \"\",\n        \"description\": \"\"\n      }\n    },\n    {\n      \"column\": \"temperature\",\n      \"properties\": {\n        \"dtype\": \"number\",\n        \"std\": 6.316396435891625,\n        \"min\": 38.14,\n        \"max\": 87.17,\n        \"num_unique_values\": 2599,\n        \"samples\": [\n          67.6,\n          70.19\n        ],\n        \"semantic_type\": \"\",\n        \"description\": \"\"\n      }\n    },\n    {\n      \"column\": \"is_start_of_semester\",\n      \"properties\": {\n        \"dtype\": \"number\",\n        \"std\": 0,\n        \"min\": 0,\n        \"max\": 1,\n        \"num_unique_values\": 2,\n        \"samples\": [\n          1,\n          0\n        ],\n        \"semantic_type\": \"\",\n        \"description\": \"\"\n      }\n    },\n    {\n      \"column\": \"is_during_semester\",\n      \"properties\": {\n        \"dtype\": \"number\",\n        \"std\": 0,\n        \"min\": 0,\n        \"max\": 1,\n        \"num_unique_values\": 2,\n        \"samples\": [\n          1,\n          0\n        ],\n        \"semantic_type\": \"\",\n        \"description\": \"\"\n      }\n    },\n    {\n      \"column\": \"month\",\n      \"properties\": {\n        \"dtype\": \"number\",\n        \"std\": 3,\n        \"min\": 1,\n        \"max\": 12,\n        \"num_unique_values\": 12,\n        \"samples\": [\n          6,\n          5\n        ],\n        \"semantic_type\": \"\",\n        \"description\": \"\"\n      }\n    },\n    {\n      \"column\": \"hour\",\n      \"properties\": {\n        \"dtype\": \"number\",\n        \"std\": 6,\n        \"min\": 0,\n        \"max\": 23,\n        \"num_unique_values\": 24,\n        \"samples\": [\n          1,\n          12\n        ],\n        \"semantic_type\": \"\",\n        \"description\": \"\"\n      }\n    }\n  ]\n}"
            }
          },
          "metadata": {},
          "execution_count": 10
        }
      ]
    },
    {
      "cell_type": "markdown",
      "source": [
        "Below we have Data Analysis of many factors that impact gym crowdiness. These factors are what we determine are the best traits that determine the optimal situation to go to the gym due to low crowdiness.\n",
        "\n"
      ],
      "metadata": {
        "id": "zaspKB7oXFJm"
      }
    },
    {
      "cell_type": "markdown",
      "source": [
        "Explaination of each of the features in the table\n",
        "\n",
        "* number_people (int; number of people in the gym in the 10min window given)\n",
        "*  date (string; datetime of data)\n",
        "* timestamp (int; number of seconds since beginning of day)\n",
        "* day_of_week (int; 0 [monday] - 6 [sunday])\n",
        "* is_weekend:  [boolean, if 1, it's either * saturday or sunday, otherwise 0]\n",
        "* is_holiday (int; 0 or 1) [boolean, if 1 it's a federal holiday, 0 otherwise]\n",
        "* temperature (float; degrees fahrenheit)\n",
        "* is_start_of_semester (int; 0 or 1) [boolean, if 1 it's the beginning of a school semester, 0 otherwise]\n",
        "* month (int; 1 [jan] - 12 [dec])\n",
        "* hour (int; 0 - 23)\n",
        "\n"
      ],
      "metadata": {
        "id": "jkOpVfQHXph_"
      }
    },
    {
      "cell_type": "markdown",
      "source": [
        "# **Exploratory data analysis**\n",
        "\n",
        "---"
      ],
      "metadata": {
        "id": "TKON0nlZHQeC"
      }
    },
    {
      "cell_type": "markdown",
      "source": [
        "Now we will begin extensively exploring our curing dataset to gain insightful findings on certain factors and their impact on gym crowdiness.\n",
        "\n",
        "Below we have Data Analysis of many factors that impact gym crowdiness.\n",
        "\n",
        "*Assume a p-value of 0.05*"
      ],
      "metadata": {
        "id": "lkVXHduK60iX"
      }
    },
    {
      "cell_type": "markdown",
      "source": [
        "**Experiment #1**\n",
        "\n",
        "For this experiment, we would like to find out whether weekends or weekdays impact gym crowdiness. Our methodology for this experiment is to utilize a Z-Test and compare weekend and weekday averages against each other.\n",
        "\n",
        "*H0*: Weekends do not impact the crowdiness of the gym\n",
        "\n",
        "*HA*: Gyms are more crowded during *weekends*"
      ],
      "metadata": {
        "id": "UTXsDO4N60iY"
      }
    },
    {
      "cell_type": "code",
      "source": [
        "pvalue, z_test = ztest((df[df['is_weekend'] == 1]['number_people']).to_numpy(), (df[df['is_weekend'] == 0]['number_people']).to_numpy()) # numpy due to z_test failing on scipy\n",
        "print(pvalue)\n",
        "\n",
        "df.groupby('is_weekend')['number_people'].mean().plot(kind='bar',\n",
        "                                                      color=['blue', 'red'],\n",
        "                                                      edgecolor='black')\n",
        "plt.ylabel('Average Number of People at Gym')\n",
        "plt.xticks([0, 1], ['Weekday', 'Weekend'])"
      ],
      "metadata": {
        "colab": {
          "base_uri": "https://localhost:8080/",
          "height": 568
        },
        "outputId": "d5f2144a-ffda-467f-c37d-59004868929b",
        "id": "hhs9FiOu60in"
      },
      "execution_count": null,
      "outputs": [
        {
          "output_type": "stream",
          "name": "stdout",
          "text": [
            "-44.05030514920525\n"
          ]
        },
        {
          "output_type": "execute_result",
          "data": {
            "text/plain": [
              "([<matplotlib.axis.XTick at 0x79831d1126e0>,\n",
              "  <matplotlib.axis.XTick at 0x79831d1126b0>],\n",
              " [Text(0, 0, 'Weekday'), Text(1, 0, 'Weekend')])"
            ]
          },
          "metadata": {},
          "execution_count": 132
        },
        {
          "output_type": "display_data",
          "data": {
            "text/plain": [
              "<Figure size 640x480 with 1 Axes>"
            ],
            "image/png": "[encoded data removed]"
          },
          "metadata": {}
        }
      ]
    },
    {
      "cell_type": "markdown",
      "source": [
        "**Conclusion #1**\n",
        "\n",
        "From this experiment, because the P-Value obtained from the Z-Test is less than 0.05, we must reject the Null Hypothesis and conclude that Gyms *ARE* more crowded during the weekends."
      ],
      "metadata": {
        "id": "YN1GUkwT60io"
      }
    },
    {
      "cell_type": "markdown",
      "source": [
        "**Experiment #2**\n",
        "\n",
        "For this next experiment, we wanted to determine how the temperature of the day impacts gym attendance. We utilized a Z-Test again and visualized the most popular temperment to work out in.\n",
        "\n",
        "According to an research article, 50°F is the median temperature that seperates being too hot to go to a gym and too cold by measuring comfortablitiy levels within each activity (Weight Lifting, Cardio, Aerobics, etc.)\n",
        "\n",
        "*Chongyun Huang, Jiaxin Que, Qianni Liu, Yufeng Zhang,\n",
        "On the gym air temperature supporting exercise and comfort,\n",
        "Building and Environment,\n",
        "Volume 206,\n",
        "2021,\n",
        "108313,\n",
        "ISSN 0360-1323,\n",
        "https://doi.org/10.1016/j.buildenv.2021.108313.*\n",
        "\n",
        "*H0*: Temperature has no impact on gym crowdiness\n",
        "\n",
        "*HA*: Cold outdoor Temperatures impact how crowded a gym is"
      ],
      "metadata": {
        "id": "71OJ_VoS60io"
      }
    },
    {
      "cell_type": "code",
      "source": [
        "pvalue, z_test = ztest((df[df['temperature'] < 50]['number_people']).to_numpy(), (df[df['temperature'] >= 50]['number_people']).to_numpy())\n",
        "print(pvalue)\n",
        "plt.hist(df['number_people'],color='red', edgecolor='black')\n",
        "plt.xlabel('Temperature')\n",
        "plt.ylabel('Number of People')\n"
      ],
      "metadata": {
        "colab": {
          "base_uri": "https://localhost:8080/",
          "height": 484
        },
        "outputId": "7f57e29d-2eab-405b-c003-03e64718c087",
        "id": "BCCBGokd60io"
      },
      "execution_count": null,
      "outputs": [
        {
          "output_type": "stream",
          "name": "stdout",
          "text": [
            "-67.05555044201817\n"
          ]
        },
        {
          "output_type": "execute_result",
          "data": {
            "text/plain": [
              "Text(0, 0.5, 'Number of People')"
            ]
          },
          "metadata": {},
          "execution_count": 133
        },
        {
          "output_type": "display_data",
          "data": {
            "text/plain": [
              "<Figure size 640x480 with 1 Axes>"
            ],
            "image/png": "[encoded data removed]"
          },
          "metadata": {}
        }
      ]
    },
    {
      "cell_type": "markdown",
      "source": [
        "**Conclusion #2**\n",
        "\n",
        "From this experiment using the z test once again, we must reject the Null Hypothesis and conclude that Cold Temperatures do indeed impact gym crowdiness and more people are present in the gym during cooler temperatures."
      ],
      "metadata": {
        "id": "XkeFOiCv60io"
      }
    },
    {
      "cell_type": "markdown",
      "source": [
        "**Experiment #3**\n",
        "\n",
        "For this experiment, we extrapolated the correlation of time of day and the amount of people at the gym by undergoing a Pearson Correlation Test. We then visualize the average amount of people that were at the gym during these varied times.\n",
        "\n",
        "*H0*: There is no correlation with the time of day and the amount of people at the gym\n",
        "\n",
        "*HA*: The time of day impacts the crowdiness of the gym"
      ],
      "metadata": {
        "id": "_lq-P8i-60ip"
      }
    },
    {
      "cell_type": "code",
      "source": [
        "cc_test = pearsonr(df['hour'], df['number_people'])\n",
        "print(cc_test.pvalue)\n",
        "\n",
        "df.groupby('hour')['number_people'].mean().plot(kind= 'line',\n",
        "                                                color='green',\n",
        "                                                grid= True,\n",
        "                                                xlabel= 'Time (Hour/24)',\n",
        "                                                ylabel= 'Average Amount of People')\n",
        "\n"
      ],
      "metadata": {
        "colab": {
          "base_uri": "https://localhost:8080/",
          "height": 485
        },
        "outputId": "b607b20f-77ab-4eca-9b26-da12ee71b1f1",
        "id": "EbjfaOZc60ip"
      },
      "execution_count": null,
      "outputs": [
        {
          "output_type": "stream",
          "name": "stdout",
          "text": [
            "0.0\n"
          ]
        },
        {
          "output_type": "execute_result",
          "data": {
            "text/plain": [
              "<Axes: xlabel='Time (Hour/24)', ylabel='Average Amount of People'>"
            ]
          },
          "metadata": {},
          "execution_count": 134
        },
        {
          "output_type": "display_data",
          "data": {
            "text/plain": [
              "<Figure size 640x480 with 1 Axes>"
            ],
            "image/png": "[encoded data removed]"
          },
          "metadata": {}
        }
      ]
    },
    {
      "cell_type": "markdown",
      "source": [
        "**Conclusion #3**\n",
        "\n",
        "From this experiment using the Pearson Correlation test, and a p-value of 0, we must reject the Null Hypothesis and conclude that the time of day does impact the amount of people in the gym."
      ],
      "metadata": {
        "id": "eIB1HiXO60iq"
      }
    },
    {
      "cell_type": "markdown",
      "source": [
        "**Experiment #4**\n",
        "\n",
        "Within this last experiment, we wanted to see how Holidays affect gym attendance. Using a Chi Squared Test, we will compare the magnitude of attendance within a gym during Holidays and regular days.\n",
        "\n",
        "*H0*: The amount of people in the gym on Holidays and regular days are the same\n",
        "\n",
        "*HA*: The amount of people in the gym on Holidays and regular days are different.\n"
      ],
      "metadata": {
        "id": "GKhJ5fmN60iq"
      }
    },
    {
      "cell_type": "code",
      "source": [
        "obs = pd.crosstab(df['number_people'], df['is_holiday'])\n",
        "print(sc.stats.chi2_contingency(obs).pvalue)\n",
        "\n",
        "df.groupby('is_holiday')['number_people'].mean().plot(kind='bar',\n",
        "                                                      ylabel= 'Avg Amount of People',\n",
        "                                                      xlabel= '',\n",
        "                                                      color=['blue', 'green'],\n",
        "                                                      edgecolor='black')\n",
        "\n",
        "plt.xticks(ticks=[0, 1], labels=['Regular Day', 'Holiday'])"
      ],
      "metadata": {
        "colab": {
          "base_uri": "https://localhost:8080/",
          "height": 590
        },
        "outputId": "10c706ea-1c84-4922-8b10-5de80130eba4",
        "id": "1KytyDn960iq"
      },
      "execution_count": null,
      "outputs": [
        {
          "output_type": "stream",
          "name": "stdout",
          "text": [
            "1.8822621894188776e-11\n"
          ]
        },
        {
          "output_type": "execute_result",
          "data": {
            "text/plain": [
              "([<matplotlib.axis.XTick at 0x79831fb25660>,\n",
              "  <matplotlib.axis.XTick at 0x79831fb25630>],\n",
              " [Text(0, 0, 'Regular Day'), Text(1, 0, 'Holiday')])"
            ]
          },
          "metadata": {},
          "execution_count": 135
        },
        {
          "output_type": "display_data",
          "data": {
            "text/plain": [
              "<Figure size 640x480 with 1 Axes>"
            ],
            "image/png": "[encoded data removed]"
          },
          "metadata": {}
        }
      ]
    },
    {
      "cell_type": "markdown",
      "source": [
        "**Conclusion #4**\n",
        "\n",
        "From this experiment using the Chi Squared Test and getting a P-Value less than 0.05, we must reject the Null Hypothesis and conclude that the amount of people going differ on holidays and regular days."
      ],
      "metadata": {
        "id": "u5qY78PJ60ir"
      }
    },
    {
      "cell_type": "markdown",
      "source": [
        "**Data Exploratory Conclusion**\n",
        "\n",
        "In terms of the dataset itself, there seems to be a large inclination of entries that visited the gym during 0-20 degrees. Now these may or may not be outliers depending on the reach at which the study was conducted on but, regardless, trends were still observable. Other than that the dataset includes 10 different factors or entries such as temperatures, weekday, etc. that impact the crowdiness of the gym. Due to the size of this dataset, the corrrelation and graphs presented in these experiments above illustrate unique trends and influences that further the goal and exploration of this project.\n",
        "\n",
        "\n",
        "In conclusion many factors such as temperatures, day of the week, and time of day all impact the over crowdedness of gyms. Going forward, finding an optimal time that the least amount of people go to the gym will become more and more accurate as we conitnue tests such as the one above and narrow down our data."
      ],
      "metadata": {
        "id": "zlTgvIPe0SM8"
      }
    },
    {
      "cell_type": "markdown",
      "source": [
        "# **Primary analysis**\n",
        "\n",
        "---\n",
        "\n"
      ],
      "metadata": {
        "id": "GIZIYO0RHW0u"
      }
    },
    {
      "cell_type": "markdown",
      "source": [
        "We will be using Random Forest Regression to help us answer the question in the introduction. As we have seen in the previous data exploratory sections, the time of day, day of the week, as well as the temperature. We chose Random Forest, because of how complex the data is and the many conclusions they make on their own."
      ],
      "metadata": {
        "id": "GSzpwCjUh1TF"
      }
    },
    {
      "cell_type": "code",
      "source": [
        "X = df[['timestamp', 'day_of_week', 'is_weekend', 'is_holiday', 'temperature', 'hour']]\n",
        "y = df['number_people']\n",
        "\n",
        "seed = 42\n",
        "\n",
        "X_train, X_test, y_train, y_test = train_test_split(X, y, test_size=0.2, random_state=seed)\n",
        "\n",
        "model = RandomForestRegressor(n_estimators=100, random_state=seed)\n",
        "model.fit(X_train, y_train)\n",
        "\n",
        "y_pred = model.predict(X_test)\n",
        "\n",
        "mse = mean_squared_error(y_test, y_pred)\n",
        "print(\"Mean Squared Error:\", mse)"
      ],
      "metadata": {
        "colab": {
          "base_uri": "https://localhost:8080/"
        },
        "id": "yjKaYFG0rprH",
        "outputId": "cdc56b32-fe8c-42d7-cda1-4e365502110e"
      },
      "execution_count": 37,
      "outputs": [
        {
          "output_type": "stream",
          "name": "stdout",
          "text": [
            "Mean Squared Error: 85.23682703972305\n"
          ]
        }
      ]
    },
    {
      "cell_type": "markdown",
      "source": [
        "With a Mean Squared Error of 85%, the model was able to adapt and produce predictions closely to the data and adequately predict the amount of people given varying conditions.\n",
        "\n",
        "We will not traverse through every predicted condition and their dedicated population to find the optimal time for the least amount of people in a 12 hour span."
      ],
      "metadata": {
        "id": "CVoU2Ll-8ItI"
      }
    },
    {
      "cell_type": "code",
      "source": [
        "conditions = [(12, day, weekend, holiday, temp, hour) # Iterating through every element and their values\n",
        "                  for day in df['day_of_week'].unique()\n",
        "                  for weekend in [0, 1]\n",
        "                  for holiday in [0, 1]\n",
        "                  for temp in df['temperature'].unique()\n",
        "                  for hour in df['hour'].unique()]\n",
        "\n",
        "print(conditions[np.argmin(model.predict(conditions))]) # Prediction Tuple of the most optimal time"
      ],
      "metadata": {
        "colab": {
          "base_uri": "https://localhost:8080/"
        },
        "id": "H1R05Hre8hNs",
        "outputId": "84ce17fb-5430-460e-b4bd-f4f97d30c203"
      },
      "execution_count": 44,
      "outputs": [
        {
          "output_type": "stream",
          "name": "stderr",
          "text": [
            "/usr/local/lib/python3.10/dist-packages/sklearn/base.py:439: UserWarning: X does not have valid feature names, but RandomForestRegressor was fitted with feature names\n",
            "  warnings.warn(\n"
          ]
        },
        {
          "output_type": "stream",
          "name": "stdout",
          "text": [
            "(12, 5, 1, 0, 47.69, 17)\n"
          ]
        }
      ]
    },
    {
      "cell_type": "markdown",
      "source": [
        "From this we a provided that Non-Holiday Saturdays during cold temperatures around 5pm are optimal for having the least amount of people!"
      ],
      "metadata": {
        "id": "5CqEpiqhAG2Y"
      }
    },
    {
      "cell_type": "markdown",
      "source": [
        "# Visualization\n",
        "---"
      ],
      "metadata": {
        "id": "zhc21klL4HAX"
      }
    },
    {
      "cell_type": "code",
      "source": [
        "plt.figure(figsize=(15, 6))\n",
        "plt.scatter(y_test, y_pred, color='blue', label='Predicted')\n",
        "plt.xlabel('Actual Number of People')\n",
        "plt.plot(y_test, y_test, color='red', label='Actual')\n",
        "plt.ylabel('Predicted Number of People')\n",
        "plt.title('Actual vs Predicted Number of People at the Gym')\n",
        "plt.legend()\n",
        "plt.show()"
      ],
      "metadata": {
        "colab": {
          "base_uri": "https://localhost:8080/",
          "height": 564
        },
        "id": "rBNqVevTr8M5",
        "outputId": "8a1324cf-b186-4c81-c549-2820b1807291"
      },
      "execution_count": 25,
      "outputs": [
        {
          "output_type": "display_data",
          "data": {
            "text/plain": [
              "<Figure size 1500x600 with 1 Axes>"
            ],
            "image/png": "[encoded data removed]"
          },
          "metadata": {}
        }
      ]
    },
    {
      "cell_type": "markdown",
      "source": [
        "As we can see, through the various types and entries of data the model was able to learn and predict the amount of people at a gym given the conditions.\n",
        "\n",
        "Now these predictions may have had a 85% as opposed to a more accurate percentage due to the volume of the entries and the variety of the data. As seen in the data exploration, there are trends or patterns for a given feature and the amount of people attending a gym and also their are many outliers. For example, this data may be sensitive to outliers in certain times such as New Years. During New Years, many people tend to join the gym with attendance pattenrs that may not adhere to the data. We beleive this and variety of human behavior is the source of these outliers."
      ],
      "metadata": {
        "id": "Q-v6nfOnA3E_"
      }
    },
    {
      "cell_type": "markdown",
      "source": [
        "# **Conclusions**\n",
        "\n",
        "---\n",
        "\n"
      ],
      "metadata": {
        "id": "L6-jfJfNHdoQ"
      }
    },
    {
      "cell_type": "markdown",
      "source": [
        "Throughout this whole project we have gave a step by step process on determining the best time to go to the gym given certain features. Individually we tried to see which features were the best in determining when is the best time to go to the gym.\n",
        "\n",
        "First did a test is determining whether the weekday or the weekend, which was the best time to go to the gym. Through our testing we concluded that going to the gym in the weekday was the best since it had less people.\n",
        "\n",
        "Second we try to see whether the weather had any impact on gym crowdiness. Using a Z-test we were able to conclude that weather does impact gym crowdiness and that worse weather tends to dictate that less people will be at the gym.\n",
        "\n",
        "Then we tried to see whether the time of day had any impacts, and through pearson correlation test we realized that it does. We see that early mornings tend to have less people compared to after noon. We can assume this is because majority of individuals have to work in the morning times compared to afternoon.\n",
        "\n",
        "Final hypothesis testing we did is to determine if holidays played any factor in people showing up to the gym. Using the Chi squared test we were able to conclude that it did and that on holidays the amount of people who go to the gym decrease compared to regular days.\n",
        "\n",
        "Through all of our testing we can assume that Saturdays during cold weather and afternoon hours(5-7pm) on a non-holiday day were the best time to go to the gym due to the decrease in population.\n",
        "\n",
        "We created a ML model of regression to predict these best times and the amount of people to show up to the gym based on this stipulations.\n",
        "\n",
        "Throughout the whole process we were able to show the best times and features to utilize for optimal gym usage."
      ],
      "metadata": {
        "id": "k1huL7AU1o73"
      }
    }
  ]
}